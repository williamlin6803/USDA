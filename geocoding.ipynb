{
  "nbformat": 4,
  "nbformat_minor": 0,
  "metadata": {
    "colab": {
      "provenance": [],
      "authorship_tag": "ABX9TyPltPYyg5ImmbpQrMSEsqa/"
    },
    "kernelspec": {
      "name": "python3",
      "display_name": "Python 3"
    },
    "language_info": {
      "name": "python"
    }
  },
  "cells": [
    {
      "cell_type": "code",
      "execution_count": 4,
      "metadata": {
        "colab": {
          "base_uri": "https://localhost:8080/"
        },
        "id": "bIP0jMkeQFF0",
        "outputId": "a9492ac2-0de2-4673-9288-27b94ced6f2b"
      },
      "outputs": [
        {
          "output_type": "stream",
          "name": "stdout",
          "text": [
            "('37.4217636', '-122.084614')\n"
          ]
        }
      ],
      "source": [
        "import requests\n",
        "\n",
        "# OpenStreetMap Nominatim API\n",
        "\n",
        "def get_lat_lng_osm(address):\n",
        "    endpoint = f\"https://nominatim.openstreetmap.org/search?q={address}&format=json\"\n",
        "    r = requests.get(endpoint)\n",
        "    if r.status_code not in range(200, 299):\n",
        "        return None\n",
        "    try:\n",
        "        results = r.json()[0]\n",
        "        return results['lat'], results['lon']\n",
        "    except:\n",
        "      return None\n",
        "\n",
        "# address = \"1600 Amphitheatre Parkway, Mountain View, CA\"\n",
        "# print(get_lat_lng_osm(address))\n",
        "\n"
      ]
    }
  ]
}