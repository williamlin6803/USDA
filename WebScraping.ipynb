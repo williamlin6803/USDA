{
  "nbformat": 4,
  "nbformat_minor": 0,
  "metadata": {
    "colab": {
      "provenance": [],
      "authorship_tag": "ABX9TyP1YlSwrohhRNz3+dVGLEKu"
    },
    "kernelspec": {
      "name": "python3",
      "display_name": "Python 3"
    },
    "language_info": {
      "name": "python"
    }
  },
  "cells": [
    {
      "cell_type": "code",
      "execution_count": null,
      "metadata": {
        "colab": {
          "base_uri": "https://localhost:8080/"
        },
        "id": "JMgMZtUAvqWV",
        "outputId": "502676df-9778-4ea7-a0a8-3117a0315c43"
      },
      "outputs": [
        {
          "output_type": "stream",
          "name": "stdout",
          "text": [
            "https://ssl.acesag.auburn.edu/directory-new/\n",
            "https://www.uaf.edu/ces/districts/\n",
            "https://extension.arizona.edu/directory\n",
            "https://www.uaex.uada.edu/counties/\n",
            "https://ucanr.edu/About/DirectorySearch/\n",
            "https://extension.colostate.edu/staff-directory/?cn-s=&cn-cat=113\n",
            "https://cahnr.uconn.edu/extension/locations/\n",
            "https://www.udel.edu/academics/colleges/canr/cooperative-extension/\n",
            "https://www.udc.edu/causes/land-grant/\n",
            "https://sfyl.ifas.ufl.edu/find-your-local-office/\n",
            "https://ag.fvsu.edu/extension/county-agents-and-program-assistants\n",
            "https://extension.uga.edu/county-offices.html\n",
            "https://www.uog.edu/extension/#Contact\n",
            "https://cms.ctahr.hawaii.edu/ce/Find-Us\n",
            "https://www.uidaho.edu/extension/directory/counties\n",
            "https://extension.illinois.edu/global/where-we-serve\n",
            "https://extension.purdue.edu/about/county-office.html\n",
            "https://www.extension.iastate.edu/countyservices/\n",
            "https://www.ksre.k-state.edu/about/statewide-locations.html\n",
            "https://www.kysu.edu/academics/college-acs/school-of-ace/co-op/extension_personnel.php\n",
            "http://extension.ca.uky.edu/county\n",
            "https://www.lsuagcenter.com/portals/our_offices/parishes\n",
            "https://extension.umaine.edu/county-offices/\n",
            "https://extension.umd.edu/locations\n",
            "https://ag.umass.edu/about/locations\n",
            "https://www.canr.msu.edu/outreach/county\n",
            "https://extension.umn.edu/local\n",
            "https://www.alcorn.edu/academics/schools-and-departments/school-of-agriculture-and-applied-sciences/land-grant-programs/extension-and-outreach\n",
            "https://extension.msstate.edu/county-offices\n",
            "https://extension.missouri.edu/locations\n",
            "https://www.msuextension.org/localoffices.html\n",
            "https://epd.unl.edu/\n",
            "https://extension.unr.edu/county-offices.aspx\n",
            "https://extension.unh.edu/about/locations\n",
            "https://njaes.rutgers.edu/county/\n",
            "https://extension.nmsu.edu/about/location.html\n",
            "https://cals.cornell.edu/cornell-cooperative-extension/local-offices\n",
            "https://www.ces.ncsu.edu/local-county-center/\n",
            "https://www.ndsu.edu/agriculture/extension/county-extension-offices\n",
            "https://extension.osu.edu/lao#county\n",
            "https://extension.okstate.edu/county/\n",
            "https://extension.oregonstate.edu/find-us\n",
            "https://web.uri.edu/coopext/\n",
            "https://web.uri.edu/coopext/contact-us/\n",
            "https://www.clemson.edu/extension/co/index.html\n",
            "https://www.tnstate.edu/extension/county/index.aspx\n",
            "https://utextension.tennessee.edu/office-locations-departments-centers/\n",
            "https://www.pvamu.edu/cahs/cep/county-locations/\n",
            "https://agrilifeextension.tamu.edu/counties/\n",
            "https://extension.ou.usu.edu/locations\n",
            "https://www.uvm.edu/extension/office-employee-directory\n",
            "https://ext.vt.edu/offices.html\n",
            "https://extension.wsu.edu/locations/\n",
            "https://www.wvstateu.edu/outreach/wvsu-extension-service.aspx#\n",
            "https://counties.extension.wisc.edu/\n",
            "https://www.uwyo.edu/uwe/county/\n"
          ]
        }
      ],
      "source": [
        "import requests\n",
        "import pandas as pd\n",
        "from bs4 import BeautifulSoup\n",
        "\n",
        "# modified url that points to an export link\n",
        "csv_url = 'https://docs.google.com/spreadsheets/d/18p6w3btY2km9nEKq0Z8W0BAbHh8L5Z3k/export?format=csv&gid=926683666'\n",
        "csv_column = 'Local Office Directory'\n",
        "\n",
        "# Parsing CSV\n",
        "df = pd.read_csv(csv_url)\n",
        "extension_links = df[csv_column]\n",
        "\n",
        "urls_to_scrape = []\n",
        "extension_centers = []\n",
        "\n",
        "for link in extension_links:\n",
        "    if not pd.isna(link):\n",
        "        try:\n",
        "            response = requests.get(link)\n",
        "            if response.status_code == 200:\n",
        "                soup = BeautifulSoup(response.content, 'html.parser')\n",
        "                for tag in soup.find_all('li', href=True):\n",
        "                    url = tag['href']\n",
        "                    extension_centers.append(url)\n",
        "\n",
        "        except requests.RequestException as e:\n",
        "            print(f\"{link}: Error: {e}\")\n",
        "\n",
        "print(extension_centers)"
      ]
    }
  ]
}